{
 "cells": [
  {
   "cell_type": "code",
   "execution_count": null,
   "id": "a6171fd5",
   "metadata": {},
   "outputs": [],
   "source": [
    "# HeapSort"
   ]
  },
  {
   "cell_type": "code",
   "execution_count": 10,
   "id": "3721606d",
   "metadata": {},
   "outputs": [],
   "source": [
    "def heapify(a, count):\n",
    "    start = (count - 2) // 2\n",
    "    \n",
    "    while start >= 0:\n",
    "        siftDown(a, start, count -1)\n",
    "        start = start -1\n",
    "        "
   ]
  },
  {
   "cell_type": "code",
   "execution_count": 4,
   "id": "a341935c",
   "metadata": {},
   "outputs": [],
   "source": [
    "def siftDown(a, start, end):\n",
    "    root = start\n",
    "    \n",
    "    while (2 * root + 1) <= end:\n",
    "        child = (2 * root + 1)\n",
    "        swap = root\n",
    "        \n",
    "        if a[swap] <a[child]:\n",
    "            swap = child\n",
    "        if child + 1 <= end and a[swap] < a[child + 1]:\n",
    "            swap = child + 1\n",
    "        if swap == root:\n",
    "              return\n",
    "        else:\n",
    "             a[root], a[swap] = a[swap], a[root]\n",
    "                  root= swap"
   ]
  },
  {
   "cell_type": "code",
   "execution_count": 9,
   "id": "e8cf2b26",
   "metadata": {},
   "outputs": [],
   "source": [
    "def heapsort(a):\n",
    "    count = len(a)\n",
    "        \n",
    "    heapify(a, count)\n",
    "    end = count -1\n",
    "    \n",
    "    while end > 0:\n",
    "        a[0], a[end] = a[end], a[0]\n",
    "\n",
    "        siftDown(a, 0, end)"
   ]
  },
  {
   "cell_type": "code",
   "execution_count": null,
   "id": "15f25209",
   "metadata": {},
   "outputs": [],
   "source": [
    "l"
   ]
  },
  {
   "cell_type": "code",
   "execution_count": null,
   "id": "83da2f94",
   "metadata": {},
   "outputs": [],
   "source": []
  },
  {
   "cell_type": "code",
   "execution_count": null,
   "id": "331da00a",
   "metadata": {},
   "outputs": [],
   "source": []
  },
  {
   "cell_type": "code",
   "execution_count": null,
   "id": "4e2439cd",
   "metadata": {},
   "outputs": [],
   "source": []
  },
  {
   "cell_type": "code",
   "execution_count": null,
   "id": "8f684e1d",
   "metadata": {},
   "outputs": [],
   "source": []
  }
 ],
 "metadata": {
  "kernelspec": {
   "display_name": "Python 3 (ipykernel)",
   "language": "python",
   "name": "python3"
  },
  "language_info": {
   "codemirror_mode": {
    "name": "ipython",
    "version": 3
   },
   "file_extension": ".py",
   "mimetype": "text/x-python",
   "name": "python",
   "nbconvert_exporter": "python",
   "pygments_lexer": "ipython3",
   "version": "3.9.12"
  }
 },
 "nbformat": 4,
 "nbformat_minor": 5
}
