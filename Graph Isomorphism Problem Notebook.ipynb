{
 "cells": [
  {
   "cell_type": "code",
   "execution_count": null,
   "id": "3f5d5666",
   "metadata": {},
   "outputs": [],
   "source": [
    "A = [ 0 1 0 0 1 1     B = [ 0 1 1 0 0 0\n",
    "      1 0 1 0 0 1           1 0 1 1 0 0\n",
    "      0 1 0 1 0 0           1 1 0 1 1 0\n",
    "      0 0 1 0 1 0           0 1 1 0 0 1\n",
    "      1 0 0 1 0 1           0 0 1 0 0 1\n",
    "      1 1 0 0 1 0 ]         0 0 0 1 1 0 ]\n",
    "\n",
    "C = [ 0 1 0 1 0 1     D = [ 0 1 0 1 1 0\n",
    "      1 0 1 0 0 1           1 0 1 0 1 0\n",
    "      0 1 0 1 1 0           0 1 0 1 0 1\n",
    "      1 0 1 0 1 0           1 0 1 0 0 1\n",
    "      0 0 1 1 0 1           1 1 0 0 0 1\n",
    "      1 1 0 0 1 0 ]         0 0 1 1 1 0 ]   \n"
   ]
  },
  {
   "cell_type": "code",
   "execution_count": null,
   "id": "e4aec632",
   "metadata": {},
   "outputs": [],
   "source": [
    "areIsomorphic(G1, G2):\n",
    "      if(G1.num_verticies != G2.num_verticies)\n",
    "              return False\n",
    "           if(G1.num_total_edges != G2.num_total_edges)\n",
    "              return False\n",
    "              for each vertex v in G1:\n",
    "            if( G2.find(v).edges != v.edges):\n",
    "                     return False;\n",
    "        "
   ]
  },
  {
   "cell_type": "code",
   "execution_count": null,
   "id": "bccf1cb7",
   "metadata": {},
   "outputs": [],
   "source": []
  }
 ],
 "metadata": {
  "kernelspec": {
   "display_name": "Python 3 (ipykernel)",
   "language": "python",
   "name": "python3"
  },
  "language_info": {
   "codemirror_mode": {
    "name": "ipython",
    "version": 3
   },
   "file_extension": ".py",
   "mimetype": "text/x-python",
   "name": "python",
   "nbconvert_exporter": "python",
   "pygments_lexer": "ipython3",
   "version": "3.9.12"
  }
 },
 "nbformat": 4,
 "nbformat_minor": 5
}
